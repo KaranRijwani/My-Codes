{
 "cells": [
  {
   "cell_type": "code",
   "execution_count": null,
   "id": "fa3772a0",
   "metadata": {},
   "outputs": [],
   "source": [
    "# Function to count sum of null values in all columns \n",
    "# just input the df name"
   ]
  },
  {
   "cell_type": "code",
   "execution_count": null,
   "id": "f592ea83",
   "metadata": {},
   "outputs": [],
   "source": [
    "def null_value_counts(df):\n",
    "    print('\\033[1m'+'Null value counts in columns:'+ '\\033[0m')\n",
    "    x = df.columns.values.tolist()\n",
    "    for i in x:\n",
    "        a=df[i].isnull().sum()\n",
    "        print(' {} : \"{}\"'.format(i,a))       "
   ]
  },
  {
   "cell_type": "code",
   "execution_count": null,
   "id": "720571c1",
   "metadata": {},
   "outputs": [],
   "source": []
  },
  {
   "cell_type": "code",
   "execution_count": null,
   "id": "d936f094",
   "metadata": {},
   "outputs": [],
   "source": [
    "# Enter the df and it gives the shape when\n",
    "# 1.original shape    2.dropped duplicates  3.Dropped nulls  4.Dropped duplicates and then nulls"
   ]
  },
  {
   "cell_type": "code",
   "execution_count": null,
   "id": "6f9d3c86",
   "metadata": {},
   "outputs": [],
   "source": [
    "# check for shape after dropping all null values and gives counts\n",
    "\n",
    "def count_null_and_dup_removed(df):\n",
    "    ppp=df.shape\n",
    "    print(' {} : \"{}\"'.format('Original shape : ',ppp))\n",
    "    thatrandomdf=df.copy()\n",
    "    mmm=thatrandomdf.drop_duplicates().shape\n",
    "    print(' {} : \"{}\"'.format('After dropping duplicates : ',mmm))\n",
    "    nnn=thatrandomdf.dropna().shape\n",
    "    print(' {} : \"{}\"'.format('After dropping just nulls :',nnn))\n",
    "    thatrandomdf.drop_duplicates(inplace=True)\n",
    "    bbb=thatrandomdf.dropna().shape\n",
    "    print(' {} : \"{}\"'.format('After duplicates and dropna : ',bbb))"
   ]
  },
  {
   "cell_type": "code",
   "execution_count": null,
   "id": "be1525f5",
   "metadata": {},
   "outputs": [],
   "source": []
  },
  {
   "cell_type": "code",
   "execution_count": null,
   "id": "ebda7b6b",
   "metadata": {},
   "outputs": [],
   "source": [
    "# Enter the DF and get value counts of all columns at once "
   ]
  },
  {
   "cell_type": "code",
   "execution_count": null,
   "id": "a1a3c277",
   "metadata": {},
   "outputs": [],
   "source": [
    "def defined_values(df):\n",
    "    x = df.columns.values.tolist()\n",
    "    for i in x:\n",
    "        print('\\033[1m' + i + '\\033[0m')\n",
    "        print(' {} :{} '.format('Unique_count',df[i].nunique()))\n",
    "        print('\\033[1m' +'Count for the values'+ '\\033[0m')\n",
    "        print(' {} '.format(df[i].value_counts(dropna=False)))\n",
    "    "
   ]
  },
  {
   "cell_type": "code",
   "execution_count": null,
   "id": "35fee688",
   "metadata": {},
   "outputs": [],
   "source": []
  },
  {
   "cell_type": "code",
   "execution_count": null,
   "id": "ee6bd1d7",
   "metadata": {},
   "outputs": [],
   "source": []
  },
  {
   "cell_type": "code",
   "execution_count": null,
   "id": "9c3bec51",
   "metadata": {},
   "outputs": [],
   "source": []
  }
 ],
 "metadata": {
  "kernelspec": {
   "display_name": "Python 3 (ipykernel)",
   "language": "python",
   "name": "python3"
  },
  "language_info": {
   "codemirror_mode": {
    "name": "ipython",
    "version": 3
   },
   "file_extension": ".py",
   "mimetype": "text/x-python",
   "name": "python",
   "nbconvert_exporter": "python",
   "pygments_lexer": "ipython3",
   "version": "3.9.7"
  }
 },
 "nbformat": 4,
 "nbformat_minor": 5
}
